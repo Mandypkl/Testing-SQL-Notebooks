{
    "metadata": {
        "kernelspec": {
            "name": "SQL",
            "display_name": "SQL",
            "language": "sql"
        },
        "language_info": {
            "name": "sql",
            "version": ""
        }
    },
    "nbformat_minor": 2,
    "nbformat": 4,
    "cells": [
        {
            "cell_type": "markdown",
            "source": [
                "# TITLE"
            ],
            "metadata": {
                "azdata_cell_guid": "ecc8ba08-bde8-4701-8261-a35314dbcd58"
            }
        },
        {
            "cell_type": "markdown",
            "source": [
                "![](c:\\Users\\rocks\\Downloads\\graph.png)"
            ],
            "metadata": {
                "azdata_cell_guid": "1f2692b0-3665-45ad-b7b8-f2db0f3a5ec5"
            }
        },
        {
            "cell_type": "code",
            "source": [
                "select top 10 * from AgeGroup"
            ],
            "metadata": {
                "azdata_cell_guid": "a256c54f-e3e4-45ed-aaa8-04b66b52ffd5"
            },
            "outputs": [
                {
                    "output_type": "display_data",
                    "data": {
                        "text/html": "(10 rows affected)"
                    },
                    "metadata": {}
                },
                {
                    "output_type": "display_data",
                    "data": {
                        "text/html": "Total execution time: 00:00:00.094"
                    },
                    "metadata": {}
                },
                {
                    "output_type": "execute_result",
                    "execution_count": 1,
                    "data": {
                        "application/vnd.dataresource+json": {
                            "schema": {
                                "fields": [
                                    {
                                        "name": "LocationType"
                                    },
                                    {
                                        "name": "Location"
                                    },
                                    {
                                        "name": "Age group"
                                    },
                                    {
                                        "name": "TimeFrame"
                                    },
                                    {
                                        "name": "DataFormat"
                                    },
                                    {
                                        "name": "Data"
                                    }
                                ]
                            },
                            "data": [
                                {
                                    "0": "Nation",
                                    "1": "United States",
                                    "2": "0 to 4",
                                    "3": "2018",
                                    "4": "Number",
                                    "5": "274169.00"
                                },
                                {
                                    "0": "Nation",
                                    "1": "United States",
                                    "2": "5 to 10",
                                    "3": "2018",
                                    "4": "Number",
                                    "5": "215682.00"
                                },
                                {
                                    "0": "Nation",
                                    "1": "United States",
                                    "2": "11 to 13",
                                    "3": "2018",
                                    "4": "Number",
                                    "5": "89065.00"
                                },
                                {
                                    "0": "Nation",
                                    "1": "United States",
                                    "2": "14 to 17",
                                    "3": "2018",
                                    "4": "Number",
                                    "5": "94602.00"
                                },
                                {
                                    "0": "Nation",
                                    "1": "United States",
                                    "2": "less than 18",
                                    "3": "2018",
                                    "4": "Number",
                                    "5": "673518.00"
                                },
                                {
                                    "0": "Nation",
                                    "1": "United States",
                                    "2": "14 to 17",
                                    "3": "2018",
                                    "4": "Percent",
                                    "5": "0.14"
                                },
                                {
                                    "0": "Nation",
                                    "1": "United States",
                                    "2": "less than 18",
                                    "3": "2018",
                                    "4": "Percent",
                                    "5": "1.00"
                                },
                                {
                                    "0": "Nation",
                                    "1": "United States",
                                    "2": "11 to 13",
                                    "3": "2018",
                                    "4": "Percent",
                                    "5": "0.13"
                                },
                                {
                                    "0": "Nation",
                                    "1": "United States",
                                    "2": "5 to 10",
                                    "3": "2018",
                                    "4": "Percent",
                                    "5": "0.32"
                                },
                                {
                                    "0": "Nation",
                                    "1": "United States",
                                    "2": "0 to 4",
                                    "3": "2018",
                                    "4": "Percent",
                                    "5": "0.41"
                                }
                            ]
                        },
                        "text/html": "<table><tr><th>LocationType</th><th>Location</th><th>Age group</th><th>TimeFrame</th><th>DataFormat</th><th>Data</th></tr><tr><td>Nation</td><td>United States</td><td>0 to 4</td><td>2018</td><td>Number</td><td>274169.00</td></tr><tr><td>Nation</td><td>United States</td><td>5 to 10</td><td>2018</td><td>Number</td><td>215682.00</td></tr><tr><td>Nation</td><td>United States</td><td>11 to 13</td><td>2018</td><td>Number</td><td>89065.00</td></tr><tr><td>Nation</td><td>United States</td><td>14 to 17</td><td>2018</td><td>Number</td><td>94602.00</td></tr><tr><td>Nation</td><td>United States</td><td>less than 18</td><td>2018</td><td>Number</td><td>673518.00</td></tr><tr><td>Nation</td><td>United States</td><td>14 to 17</td><td>2018</td><td>Percent</td><td>0.14</td></tr><tr><td>Nation</td><td>United States</td><td>less than 18</td><td>2018</td><td>Percent</td><td>1.00</td></tr><tr><td>Nation</td><td>United States</td><td>11 to 13</td><td>2018</td><td>Percent</td><td>0.13</td></tr><tr><td>Nation</td><td>United States</td><td>5 to 10</td><td>2018</td><td>Percent</td><td>0.32</td></tr><tr><td>Nation</td><td>United States</td><td>0 to 4</td><td>2018</td><td>Percent</td><td>0.41</td></tr></table>"
                    },
                    "metadata": {
                        "azdata_chartOptions": {
                            "type": "bar",
                            "dataDirection": "horizontal",
                            "columnsAsLabels": true,
                            "labelFirstColumn": false,
                            "legendPosition": "top"
                        }
                    }
                }
            ],
            "execution_count": 1
        },
        {
            "cell_type": "code",
            "source": [
                "select top 10 * from AgeGroup"
            ],
            "metadata": {
                "azdata_cell_guid": "f6d155b1-f0f3-44b8-9531-1bf1d8635151"
            },
            "outputs": [
                {
                    "output_type": "display_data",
                    "data": {
                        "text/html": "(10 rows affected)"
                    },
                    "metadata": {}
                },
                {
                    "output_type": "display_data",
                    "data": {
                        "text/html": "Total execution time: 00:00:00.008"
                    },
                    "metadata": {}
                },
                {
                    "output_type": "execute_result",
                    "execution_count": 2,
                    "data": {
                        "application/vnd.dataresource+json": {
                            "schema": {
                                "fields": [
                                    {
                                        "name": "LocationType"
                                    },
                                    {
                                        "name": "Location"
                                    },
                                    {
                                        "name": "Age group"
                                    },
                                    {
                                        "name": "TimeFrame"
                                    },
                                    {
                                        "name": "DataFormat"
                                    },
                                    {
                                        "name": "Data"
                                    }
                                ]
                            },
                            "data": [
                                {
                                    "0": "Nation",
                                    "1": "United States",
                                    "2": "0 to 4",
                                    "3": "2018",
                                    "4": "Number",
                                    "5": "274169.00"
                                },
                                {
                                    "0": "Nation",
                                    "1": "United States",
                                    "2": "5 to 10",
                                    "3": "2018",
                                    "4": "Number",
                                    "5": "215682.00"
                                },
                                {
                                    "0": "Nation",
                                    "1": "United States",
                                    "2": "11 to 13",
                                    "3": "2018",
                                    "4": "Number",
                                    "5": "89065.00"
                                },
                                {
                                    "0": "Nation",
                                    "1": "United States",
                                    "2": "14 to 17",
                                    "3": "2018",
                                    "4": "Number",
                                    "5": "94602.00"
                                },
                                {
                                    "0": "Nation",
                                    "1": "United States",
                                    "2": "less than 18",
                                    "3": "2018",
                                    "4": "Number",
                                    "5": "673518.00"
                                },
                                {
                                    "0": "Nation",
                                    "1": "United States",
                                    "2": "14 to 17",
                                    "3": "2018",
                                    "4": "Percent",
                                    "5": "0.14"
                                },
                                {
                                    "0": "Nation",
                                    "1": "United States",
                                    "2": "less than 18",
                                    "3": "2018",
                                    "4": "Percent",
                                    "5": "1.00"
                                },
                                {
                                    "0": "Nation",
                                    "1": "United States",
                                    "2": "11 to 13",
                                    "3": "2018",
                                    "4": "Percent",
                                    "5": "0.13"
                                },
                                {
                                    "0": "Nation",
                                    "1": "United States",
                                    "2": "5 to 10",
                                    "3": "2018",
                                    "4": "Percent",
                                    "5": "0.32"
                                },
                                {
                                    "0": "Nation",
                                    "1": "United States",
                                    "2": "0 to 4",
                                    "3": "2018",
                                    "4": "Percent",
                                    "5": "0.41"
                                }
                            ]
                        },
                        "text/html": "<table><tr><th>LocationType</th><th>Location</th><th>Age group</th><th>TimeFrame</th><th>DataFormat</th><th>Data</th></tr><tr><td>Nation</td><td>United States</td><td>0 to 4</td><td>2018</td><td>Number</td><td>274169.00</td></tr><tr><td>Nation</td><td>United States</td><td>5 to 10</td><td>2018</td><td>Number</td><td>215682.00</td></tr><tr><td>Nation</td><td>United States</td><td>11 to 13</td><td>2018</td><td>Number</td><td>89065.00</td></tr><tr><td>Nation</td><td>United States</td><td>14 to 17</td><td>2018</td><td>Number</td><td>94602.00</td></tr><tr><td>Nation</td><td>United States</td><td>less than 18</td><td>2018</td><td>Number</td><td>673518.00</td></tr><tr><td>Nation</td><td>United States</td><td>14 to 17</td><td>2018</td><td>Percent</td><td>0.14</td></tr><tr><td>Nation</td><td>United States</td><td>less than 18</td><td>2018</td><td>Percent</td><td>1.00</td></tr><tr><td>Nation</td><td>United States</td><td>11 to 13</td><td>2018</td><td>Percent</td><td>0.13</td></tr><tr><td>Nation</td><td>United States</td><td>5 to 10</td><td>2018</td><td>Percent</td><td>0.32</td></tr><tr><td>Nation</td><td>United States</td><td>0 to 4</td><td>2018</td><td>Percent</td><td>0.41</td></tr></table>"
                    },
                    "metadata": {}
                }
            ],
            "execution_count": 2
        }
    ]
}