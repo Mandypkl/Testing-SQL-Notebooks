{
    "metadata": {
        "kernelspec": {
            "name": "SQL",
            "display_name": "SQL",
            "language": "sql"
        },
        "language_info": {
            "name": "sql",
            "version": ""
        }
    },
    "nbformat_minor": 2,
    "nbformat": 4,
    "cells": [
        {
            "cell_type": "code",
            "source": [
                "Select location,[Data]\r\n",
                "From NumberOfChildren\r\n",
                "where locationtype='state' and TimeFrame= '2019'\r\n",
                "Order by data DESC\r\n",
                ""
            ],
            "metadata": {
                "azdata_cell_guid": "7a1cc23b-c729-4530-aaf7-9a129e3b824f"
            },
            "outputs": [
                {
                    "output_type": "display_data",
                    "data": {
                        "text/html": "(50 rows affected)"
                    },
                    "metadata": {}
                },
                {
                    "output_type": "display_data",
                    "data": {
                        "text/html": "Total execution time: 00:00:00.008"
                    },
                    "metadata": {}
                },
                {
                    "output_type": "execute_result",
                    "metadata": {
                        "azdata_chartOptions": {
                            "type": "bar",
                            "dataDirection": "vertical",
                            "columnsAsLabels": true,
                            "labelFirstColumn": false,
                            "legendPosition": "top"
                        }
                    },
                    "execution_count": 1,
                    "data": {
                        "application/vnd.dataresource+json": {
                            "schema": {
                                "fields": [
                                    {
                                        "name": "location"
                                    },
                                    {
                                        "name": "Data"
                                    }
                                ]
                            },
                            "data": [
                                {
                                    "0": "California",
                                    "1": "51268"
                                },
                                {
                                    "0": "Texas",
                                    "1": "31427"
                                },
                                {
                                    "0": "Florida",
                                    "1": "24563"
                                },
                                {
                                    "0": "Illinois",
                                    "1": "18317"
                                },
                                {
                                    "0": "Ohio",
                                    "1": "16387"
                                },
                                {
                                    "0": "Indiana",
                                    "1": "16307"
                                },
                                {
                                    "0": "New York",
                                    "1": "16086"
                                },
                                {
                                    "0": "Pennsylvania",
                                    "1": "15526"
                                },
                                {
                                    "0": "Arizona",
                                    "1": "13330"
                                },
                                {
                                    "0": "Georgia",
                                    "1": "12867"
                                },
                                {
                                    "0": "Missouri",
                                    "1": "12685"
                                },
                                {
                                    "0": "Michigan",
                                    "1": "11671"
                                },
                                {
                                    "0": "North Carolina",
                                    "1": "11223"
                                },
                                {
                                    "0": "Washington",
                                    "1": "10909"
                                },
                                {
                                    "0": "Massachusetts",
                                    "1": "9871"
                                },
                                {
                                    "0": "Tennessee",
                                    "1": "9290"
                                },
                                {
                                    "0": "Kentucky",
                                    "1": "9148"
                                },
                                {
                                    "0": "Minnesota",
                                    "1": "8400"
                                },
                                {
                                    "0": "Oklahoma",
                                    "1": "8306"
                                },
                                {
                                    "0": "Kansas",
                                    "1": "8066"
                                },
                                {
                                    "0": "Wisconsin",
                                    "1": "7642"
                                },
                                {
                                    "0": "West Virginia",
                                    "1": "7269"
                                },
                                {
                                    "0": "Oregon",
                                    "1": "6994"
                                },
                                {
                                    "0": "Iowa",
                                    "1": "5955"
                                },
                                {
                                    "0": "Alabama",
                                    "1": "5783"
                                },
                                {
                                    "0": "Colorado",
                                    "1": "5340"
                                },
                                {
                                    "0": "Virginia",
                                    "1": "4925"
                                },
                                {
                                    "0": "Nevada",
                                    "1": "4541"
                                },
                                {
                                    "0": "South Carolina",
                                    "1": "4521"
                                },
                                {
                                    "0": "New Jersey",
                                    "1": "4430"
                                },
                                {
                                    "0": "Connecticut",
                                    "1": "4333"
                                },
                                {
                                    "0": "Mississippi",
                                    "1": "4161"
                                },
                                {
                                    "0": "Arkansas",
                                    "1": "4127"
                                },
                                {
                                    "0": "Louisiana",
                                    "1": "3919"
                                },
                                {
                                    "0": "Maryland",
                                    "1": "3840"
                                },
                                {
                                    "0": "Montana",
                                    "1": "3697"
                                },
                                {
                                    "0": "Nebraska",
                                    "1": "3506"
                                },
                                {
                                    "0": "Alaska",
                                    "1": "2879"
                                },
                                {
                                    "0": "Utah",
                                    "1": "2488"
                                },
                                {
                                    "0": "New Mexico",
                                    "1": "2326"
                                },
                                {
                                    "0": "Rhode Island",
                                    "1": "2200"
                                },
                                {
                                    "0": "Maine",
                                    "1": "2096"
                                },
                                {
                                    "0": "Idaho",
                                    "1": "1752"
                                },
                                {
                                    "0": "Hawaii",
                                    "1": "1706"
                                },
                                {
                                    "0": "South Dakota",
                                    "1": "1706"
                                },
                                {
                                    "0": "North Dakota",
                                    "1": "1502"
                                },
                                {
                                    "0": "Vermont",
                                    "1": "1245"
                                },
                                {
                                    "0": "New Hampshire",
                                    "1": "1225"
                                },
                                {
                                    "0": "Wyoming",
                                    "1": "994"
                                },
                                {
                                    "0": "Delaware",
                                    "1": "576"
                                }
                            ]
                        },
                        "text/html": [
                            "<table>",
                            "<tr><th>location</th><th>Data</th></tr>",
                            "<tr><td>California</td><td>51268</td></tr>",
                            "<tr><td>Texas</td><td>31427</td></tr>",
                            "<tr><td>Florida</td><td>24563</td></tr>",
                            "<tr><td>Illinois</td><td>18317</td></tr>",
                            "<tr><td>Ohio</td><td>16387</td></tr>",
                            "<tr><td>Indiana</td><td>16307</td></tr>",
                            "<tr><td>New York</td><td>16086</td></tr>",
                            "<tr><td>Pennsylvania</td><td>15526</td></tr>",
                            "<tr><td>Arizona</td><td>13330</td></tr>",
                            "<tr><td>Georgia</td><td>12867</td></tr>",
                            "<tr><td>Missouri</td><td>12685</td></tr>",
                            "<tr><td>Michigan</td><td>11671</td></tr>",
                            "<tr><td>North Carolina</td><td>11223</td></tr>",
                            "<tr><td>Washington</td><td>10909</td></tr>",
                            "<tr><td>Massachusetts</td><td>9871</td></tr>",
                            "<tr><td>Tennessee</td><td>9290</td></tr>",
                            "<tr><td>Kentucky</td><td>9148</td></tr>",
                            "<tr><td>Minnesota</td><td>8400</td></tr>",
                            "<tr><td>Oklahoma</td><td>8306</td></tr>",
                            "<tr><td>Kansas</td><td>8066</td></tr>",
                            "<tr><td>Wisconsin</td><td>7642</td></tr>",
                            "<tr><td>West Virginia</td><td>7269</td></tr>",
                            "<tr><td>Oregon</td><td>6994</td></tr>",
                            "<tr><td>Iowa</td><td>5955</td></tr>",
                            "<tr><td>Alabama</td><td>5783</td></tr>",
                            "<tr><td>Colorado</td><td>5340</td></tr>",
                            "<tr><td>Virginia</td><td>4925</td></tr>",
                            "<tr><td>Nevada</td><td>4541</td></tr>",
                            "<tr><td>South Carolina</td><td>4521</td></tr>",
                            "<tr><td>New Jersey</td><td>4430</td></tr>",
                            "<tr><td>Connecticut</td><td>4333</td></tr>",
                            "<tr><td>Mississippi</td><td>4161</td></tr>",
                            "<tr><td>Arkansas</td><td>4127</td></tr>",
                            "<tr><td>Louisiana</td><td>3919</td></tr>",
                            "<tr><td>Maryland</td><td>3840</td></tr>",
                            "<tr><td>Montana</td><td>3697</td></tr>",
                            "<tr><td>Nebraska</td><td>3506</td></tr>",
                            "<tr><td>Alaska</td><td>2879</td></tr>",
                            "<tr><td>Utah</td><td>2488</td></tr>",
                            "<tr><td>New Mexico</td><td>2326</td></tr>",
                            "<tr><td>Rhode Island</td><td>2200</td></tr>",
                            "<tr><td>Maine</td><td>2096</td></tr>",
                            "<tr><td>Idaho</td><td>1752</td></tr>",
                            "<tr><td>Hawaii</td><td>1706</td></tr>",
                            "<tr><td>South Dakota</td><td>1706</td></tr>",
                            "<tr><td>North Dakota</td><td>1502</td></tr>",
                            "<tr><td>Vermont</td><td>1245</td></tr>",
                            "<tr><td>New Hampshire</td><td>1225</td></tr>",
                            "<tr><td>Wyoming</td><td>994</td></tr>",
                            "<tr><td>Delaware</td><td>576</td></tr>",
                            "</table>"
                        ]
                    }
                }
            ],
            "execution_count": 1
        }
    ]
}